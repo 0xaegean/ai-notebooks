{
 "cells": [
  {
   "cell_type": "code",
   "execution_count": 3,
   "id": "f38adfa0-6556-4a0c-a867-291b19cce8be",
   "metadata": {},
   "outputs": [],
   "source": [
    "import math\n",
    "import numpy as np\n",
    "import matplotlib.pyplot as plt\n",
    "%matplotlib inline"
   ]
  },
  {
   "cell_type": "code",
   "execution_count": 5,
   "id": "95c7b9ac-efb6-4329-ac48-e3824cfdb3b6",
   "metadata": {},
   "outputs": [],
   "source": [
    "def f(x):\n",
    "    return 3*x**2 - 4*x + 5"
   ]
  },
  {
   "cell_type": "code",
   "execution_count": 12,
   "id": "1600c2b3-65b0-47be-9ddb-74c9c3ab03bc",
   "metadata": {},
   "outputs": [
    {
     "data": {
      "text/plain": [
       "124.0"
      ]
     },
     "execution_count": 12,
     "metadata": {},
     "output_type": "execute_result"
    }
   ],
   "source": [
    "f(7.0)"
   ]
  },
  {
   "cell_type": "code",
   "execution_count": 14,
   "id": "9023c9c7-3ff2-432f-8a91-f6c7b8fcdd76",
   "metadata": {},
   "outputs": [
    {
     "data": {
      "text/plain": [
       "[<matplotlib.lines.Line2D at 0x7fa70a6a1b90>]"
      ]
     },
     "execution_count": 14,
     "metadata": {},
     "output_type": "execute_result"
    },
    {
     "data": {
      "image/png": "[encoded data removed]",
      "text/plain": [
       "<Figure size 640x480 with 1 Axes>"
      ]
     },
     "metadata": {},
     "output_type": "display_data"
    }
   ],
   "source": [
    "xs = np.arange(-4, 4, 0.15)\n",
    "ys = f(xs)\n",
    "plt.plot(xs, ys)"
   ]
  },
  {
   "cell_type": "code",
   "execution_count": 21,
   "id": "713c6a6b-be46-4103-8c9f-a83ef1d7f1f1",
   "metadata": {},
   "outputs": [
    {
     "data": {
      "text/plain": [
       "3.0000002482211127e-05"
      ]
     },
     "execution_count": 21,
     "metadata": {},
     "output_type": "execute_result"
    }
   ],
   "source": [
    "h = 0.00001\n",
    "x = 2/3\n",
    "(f(x + h) - f(x))/h"
   ]
  },
  {
   "cell_type": "code",
   "execution_count": 24,
   "id": "86d04318-5cad-4d60-bd9e-407ea413618d",
   "metadata": {},
   "outputs": [
    {
     "name": "stdout",
     "output_type": "stream",
     "text": [
      "5.0\n"
     ]
    }
   ],
   "source": [
    "# x daha az karmaşık hale gelir\n",
    "a = 2.0\n",
    "b = -2.0\n",
    "c = 9.0\n",
    "d = a*b + c\n",
    "print(d)"
   ]
  },
  {
   "cell_type": "code",
   "execution_count": 27,
   "id": "b034a451-e2a9-4265-a3db-5b760d316560",
   "metadata": {},
   "outputs": [
    {
     "name": "stdout",
     "output_type": "stream",
     "text": [
      "d1 5.0\n",
      "d2 4.9998\n",
      "slope -2.0000000000042206\n"
     ]
    }
   ],
   "source": [
    "h =0.0001\n",
    "\n",
    "# inputs\n",
    "a = 2.0\n",
    "b = -2.0\n",
    "c = 9.0\n",
    "\n",
    "d1 = a*b + c\n",
    "a += h\n",
    "d2 = a*b + c\n",
    "\n",
    "print('d1', d1)\n",
    "print('d2', d2)\n",
    "print('slope', (d2 - d1)/h)"
   ]
  },
  {
   "cell_type": "code",
   "execution_count": 45,
   "id": "477b0e7c-0523-4a89-8c93-a0332b5511b5",
   "metadata": {},
   "outputs": [
    {
     "data": {
      "text/plain": [
       "Value(data=8.0"
      ]
     },
     "execution_count": 45,
     "metadata": {},
     "output_type": "execute_result"
    }
   ],
   "source": [
    "class Value:\n",
    "\n",
    "    def __init__(self, data, _children=()):\n",
    "        self.data = data \n",
    "        self._prev = set(_children)\n",
    "    \n",
    "    def __repr__(self):\n",
    "        return f\"Value(data={self.data}\"\n",
    "\n",
    "    def __add__(self,other):\n",
    "        out = Value(self.data + other.data, (self, other))\n",
    "        return out\n",
    "        \n",
    "    def __mul__(self, other):\n",
    "        out = Value(self.data + other.data, (self, other))\n",
    "        return out\n",
    "        \n",
    "a = Value(1.0)\n",
    "b = Value(-2.0)\n",
    "c = Value(9.0)\n",
    "d =a*b + c \n",
    "d\n"
   ]
  },
  {
   "cell_type": "code",
   "execution_count": 46,
   "id": "02f5e800-4600-4884-b29f-7d12509df744",
   "metadata": {},
   "outputs": [
    {
     "data": {
      "text/plain": [
       "{Value(data=-1.0, Value(data=9.0}"
      ]
     },
     "execution_count": 46,
     "metadata": {},
     "output_type": "execute_result"
    }
   ],
   "source": [
    "d._prev"
   ]
  },
  {
   "cell_type": "code",
   "execution_count": null,
   "id": "289a80ab-471a-4921-a38b-30b7af6995d6",
   "metadata": {},
   "outputs": [],
   "source": []
  }
 ],
 "metadata": {
  "kernelspec": {
   "display_name": "Python 3 (ipykernel)",
   "language": "python",
   "name": "python3"
  },
  "language_info": {
   "codemirror_mode": {
    "name": "ipython",
    "version": 3
   },
   "file_extension": ".py",
   "mimetype": "text/x-python",
   "name": "python",
   "nbconvert_exporter": "python",
   "pygments_lexer": "ipython3",
   "version": "3.11.2"
  }
 },
 "nbformat": 4,
 "nbformat_minor": 5
}
