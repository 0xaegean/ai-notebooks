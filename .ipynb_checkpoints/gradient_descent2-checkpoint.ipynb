{
 "cells": [
  {
   "cell_type": "code",
   "execution_count": null,
   "id": "5187f1fe-0dc7-408a-96b7-017f9ddd6ebd",
   "metadata": {},
   "outputs": [
    {
     "ename": "",
     "evalue": "",
     "output_type": "error",
     "traceback": [
      "\u001b[1;31m'/bin/python3' ile hücreleri çalıştırmak için ipykernel paketi gerekir.\n",
      "\u001b[1;31mRun the following command to install 'ipykernel' into the Python environment. \n",
      "\u001b[1;31mCommand: '/bin/python3 -m pip install ipykernel -U --user --force-reinstall'"
     ]
    }
   ],
   "source": [
    "import matplotlib.pyplot as plt\n",
    "import numpy as np\n",
    "\n",
    "import matplotlib as mpl\n",
    "\n",
    "def function(x):\n",
    "    return x**2\n",
    "\n",
    "def graident(x):\n",
    "    return 2*x\n",
    "\n",
    "def gradient_descent(learning_rate, iterations):\n",
    "    x = 4 # starting point\n",
    "    x_values = [x]\n",
    "\n",
    "    for _ in range(iterations):\n",
    "        grad = gradient(x)\n",
    "        x = x - learning_rate * grad\n",
    "        x_values. append(x)\n",
    "\n",
    "    return x_values\n",
    "\n",
    "learning_rate = 0.1\n",
    "iterations = 10\n",
    "x_values = gradient_descent(learning_rate, iterations)\n",
    "\n",
    "# function graph\n",
    "x_range = np.linspace(-2, 5, 100)\n",
    "plt.plot(x_range, function(x_range), label='f(x) = x^2')\n",
    "\n",
    "# gradient descent steps\n",
    "plt.scatter(x_values, [function(x) for x in x_values], color='red', label='Gradient Descent Steps')\n",
    "plt.plot(x_values, [function(x) for x in x_values], linestyle='dashed', color='red')\n",
    "\n",
    "# starting point and minimum\n",
    "plt.scatter(x_values[0], function(x_values[0]), color='green', label='Starting Point')\n",
    "plt.scatter(x_values[-1], function(x_va"
   ]
  },
  {
   "cell_type": "code",
   "execution_count": null,
   "id": "e0bc7642-5ce6-420b-a813-3708aa6b0db2",
   "metadata": {},
   "outputs": [],
   "source": []
  }
 ],
 "metadata": {
  "kernelspec": {
   "display_name": "Python 3 (ipykernel)",
   "language": "python",
   "name": "python3"
  },
  "language_info": {
   "codemirror_mode": {
    "name": "ipython",
    "version": 3
   },
   "file_extension": ".py",
   "mimetype": "text/x-python",
   "name": "python",
   "nbconvert_exporter": "python",
   "pygments_lexer": "ipython3",
   "version": "3.11.2"
  }
 },
 "nbformat": 4,
 "nbformat_minor": 5
}
